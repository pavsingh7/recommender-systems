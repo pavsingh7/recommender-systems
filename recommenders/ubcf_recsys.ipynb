{
 "cells": [
  {
   "cell_type": "markdown",
   "metadata": {},
   "source": [
    "# User Based Collaborative Filtering\n",
    "\n",
    "This notebook covers topics on User Based Collaborative Filtering. It does not delve into the details of the algorithm but rather focuses on the implementation of the algorithm using python."
   ]
  },
  {
   "cell_type": "code",
   "execution_count": null,
   "metadata": {},
   "outputs": [],
   "source": [
    "import numpy as np\n",
    "import pandas as pd\n",
    "from sklearn.metrics.pairwise import cosine_similarity\n",
    "\n",
    "def user_based_collaborative_filtering(ratings, user_id, top_n=5):\n",
    "\n",
    "    # Normalize ratings by subtracting the mean rating for each user\n",
    "    mean_user_rating = ratings.mean(axis=1).reshape(-1, 1)\n",
    "    ratings_diff = ratings - mean_user_rating\n",
    "\n",
    "    # Calculate the cosine similarity between users\n",
    "    user_similarity = cosine_similarity(ratings)\n",
    "    \n",
    "    # Get the similarity scores for the specified user\n",
    "    user_similarity_scores = user_similarity[user_id]\n",
    "    \n",
    "    # Get the indices of the top_n most similar users\n",
    "    similar_users_indices = np.argsort(-user_similarity_scores)[1:top_n+1]\n",
    "    \n",
    "    # Get the ratings of the top_n most similar users\n",
    "    similar_users_ratings = ratings[similar_users_indices]\n",
    "    \n",
    "    # Calculate the average rating for each item by the top_n similar users\n",
    "    recommended_ratings = similar_users_ratings.mean(axis=0)\n",
    "    \n",
    "    # Get the indices of the items with the highest average ratings\n",
    "    recommended_items_indices = np.argsort(-recommended_ratings)\n",
    "    \n",
    "    return recommended_items_indices\n",
    "\n",
    "# Example usage:\n",
    "# Assuming 'ratings' is a numpy array where rows represent users and columns represent items\n",
    "# ratings = np.array([[5, 3, 0, 1], [4, 0, 0, 1], [1, 1, 0, 5], [1, 0, 0, 4], [0, 1, 5, 4]])\n",
    "# user_id = 0\n",
    "# recommended_items = user_based_collaborative_filtering(ratings, user_id)\n",
    "# print(recommended_items)"
   ]
  }
 ],
 "metadata": {
  "kernelspec": {
   "display_name": "Python 3",
   "language": "python",
   "name": "python3"
  },
  "language_info": {
   "name": "python",
   "version": "3.12.2"
  }
 },
 "nbformat": 4,
 "nbformat_minor": 2
}
